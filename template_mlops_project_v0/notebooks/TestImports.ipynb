{
 "cells": [
  {
   "cell_type": "code",
   "execution_count": 1,
   "id": "9682f4f9-5422-489a-b4eb-cf6c50c6461f",
   "metadata": {},
   "outputs": [],
   "source": [
    "import template_mlops_project"
   ]
  },
  {
   "cell_type": "code",
   "execution_count": 2,
   "id": "2b875d99-d639-4426-97b0-056a622acdae",
   "metadata": {},
   "outputs": [],
   "source": [
    "from template_mlops_project.something import do_something"
   ]
  },
  {
   "cell_type": "code",
   "execution_count": 3,
   "id": "d5b9649f-570a-40da-a780-33b335bf05a6",
   "metadata": {},
   "outputs": [
    {
     "data": {
      "text/plain": [
       "23"
      ]
     },
     "execution_count": 3,
     "metadata": {},
     "output_type": "execute_result"
    }
   ],
   "source": [
    "do_something('ax',None)"
   ]
  },
  {
   "cell_type": "code",
   "execution_count": null,
   "id": "abdfe8ea-e789-431b-8efe-7db01cafee8e",
   "metadata": {},
   "outputs": [],
   "source": [
    "for "
   ]
  }
 ],
 "metadata": {
  "kernelspec": {
   "display_name": "Python 3 (ipykernel)",
   "language": "python",
   "name": "python3"
  },
  "language_info": {
   "codemirror_mode": {
    "name": "ipython",
    "version": 3
   },
   "file_extension": ".py",
   "mimetype": "text/x-python",
   "name": "python",
   "nbconvert_exporter": "python",
   "pygments_lexer": "ipython3",
   "version": "3.10.11"
  }
 },
 "nbformat": 4,
 "nbformat_minor": 5
}
